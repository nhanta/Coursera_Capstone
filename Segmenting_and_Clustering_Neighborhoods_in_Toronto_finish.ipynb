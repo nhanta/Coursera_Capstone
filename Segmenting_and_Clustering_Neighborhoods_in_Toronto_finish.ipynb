{
  "nbformat": 4,
  "nbformat_minor": 0,
  "metadata": {
    "colab": {
      "name": "Segmenting and Clustering Neighborhoods in Toronto_3.ipynb",
      "version": "0.3.2",
      "provenance": [],
      "collapsed_sections": []
    },
    "language_info": {
      "mimetype": "text/x-python",
      "nbconvert_exporter": "python",
      "version": "3.5.5",
      "name": "python",
      "file_extension": ".py",
      "pygments_lexer": "ipython3",
      "codemirror_mode": {
        "version": 3,
        "name": "ipython"
      }
    },
    "kernelspec": {
      "name": "python3",
      "display_name": "Python 3"
    },
    "accelerator": "GPU"
  },
  "cells": [
    {
      "metadata": {
        "id": "tF2O-OgN1pd_",
        "colab_type": "code",
        "colab": {
          "base_uri": "https://localhost:8080/",
          "height": 34
        },
        "outputId": "1c718391-ba62-4a49-9ff3-815254fe5fab"
      },
      "cell_type": "code",
      "source": [
        "!conda install -c conda-forge folium=0.5.0 --yes"
      ],
      "execution_count": 1,
      "outputs": [
        {
          "output_type": "stream",
          "text": [
            "/bin/bash: conda: command not found\n"
          ],
          "name": "stdout"
        }
      ]
    },
    {
      "metadata": {
        "id": "YO4TkjAk1peF",
        "colab_type": "code",
        "colab": {
          "base_uri": "https://localhost:8080/",
          "height": 34
        },
        "outputId": "40e7f189-f53b-40a3-9a26-d7f8aa4fa9be"
      },
      "cell_type": "code",
      "source": [
        "import numpy as np # library to handle data in a vectorized manner\n",
        "\n",
        "import pandas as pd # library for data analsysis\n",
        "pd.set_option('display.max_columns', None)\n",
        "pd.set_option('display.max_rows', None)\n",
        "\n",
        "import json # library to handle JSON files\n",
        "\n",
        "#!conda install -c conda-forge geopy --yes # uncomment this line if you haven't completed the Foursquare API lab\n",
        "from geopy.geocoders import Nominatim # convert an address into latitude and longitude values\n",
        "\n",
        "import requests # library to handle requests\n",
        "from pandas.io.json import json_normalize # tranform JSON file into a pandas dataframe\n",
        "\n",
        "# Matplotlib and associated plotting modules\n",
        "import matplotlib.cm as cm\n",
        "import matplotlib.colors as colors\n",
        "\n",
        "# import k-means from clustering stage\n",
        "from sklearn.cluster import KMeans\n",
        "\n",
        "#!conda install -c conda-forge folium=0.5.0 --yes # uncomment this line if you haven't completed the Foursquare API lab\n",
        "import folium # map rendering library\n",
        "\n",
        "print('Libraries imported.')"
      ],
      "execution_count": 170,
      "outputs": [
        {
          "output_type": "stream",
          "text": [
            "Libraries imported.\n"
          ],
          "name": "stdout"
        }
      ]
    },
    {
      "metadata": {
        "id": "4FMOLQSY1peI",
        "colab_type": "code",
        "colab": {
          "base_uri": "https://localhost:8080/",
          "height": 34
        },
        "outputId": "ecc39c79-ebf1-420b-8e73-2a795b8d187b"
      },
      "cell_type": "code",
      "source": [
        "!wget -q -O 'newyork_data.json' https://cocl.us/new_york_dataset\n",
        "print('Data downloaded!')"
      ],
      "execution_count": 171,
      "outputs": [
        {
          "output_type": "stream",
          "text": [
            "Data downloaded!\n"
          ],
          "name": "stdout"
        }
      ]
    },
    {
      "metadata": {
        "id": "YuJfoGAN1peL",
        "colab_type": "code",
        "colab": {}
      },
      "cell_type": "code",
      "source": [
        "\n",
        "import requests\n",
        "from bs4 import BeautifulSoup\n",
        "import pandas as pd\n",
        "\n",
        "# Use SHIFT+TAB keys to popup inplace code help\n",
        "%config IPCompleter.greedy = True\n",
        "\n",
        "# Output multiple statements from one input cell\n",
        "from IPython.core.interactiveshell import InteractiveShell\n",
        "InteractiveShell.ast_node_interactivity = \"all\""
      ],
      "execution_count": 0,
      "outputs": []
    },
    {
      "metadata": {
        "id": "4LJGNCsk1peO",
        "colab_type": "code",
        "colab": {}
      },
      "cell_type": "code",
      "source": [
        "table_from_top = 1\n",
        "wikipedia_page = 'List_of_postal_codes_of_Canada:_M'\n",
        "trace = False"
      ],
      "execution_count": 0,
      "outputs": []
    },
    {
      "metadata": {
        "id": "7RqxF1nh1peR",
        "colab_type": "code",
        "colab": {}
      },
      "cell_type": "code",
      "source": [
        "wikipedia_url = 'https://en.wikipedia.org/wiki/{}'.format(wikipedia_page)\n",
        "page = requests.get(wikipedia_url)\n",
        "soup = BeautifulSoup(page.content, 'lxml')\n",
        "tables = soup.find_all('table', {'class': 'wikitable'})\n",
        "table = tables[table_from_top - 1]"
      ],
      "execution_count": 0,
      "outputs": []
    },
    {
      "metadata": {
        "id": "G1p1VU261peV",
        "colab_type": "code",
        "colab": {
          "base_uri": "https://localhost:8080/",
          "height": 34
        },
        "outputId": "f6821c4b-28df-4d18-e0ed-05561bd4a83e"
      },
      "cell_type": "code",
      "source": [
        "feature_names = []\n",
        "\n",
        "header_row = table.find('tr')\n",
        "for header in header_row.find_all('th'):\n",
        "    feature_name = ' '.join(header.find_all(text=True))\n",
        "    feature_name.replace('\\n', '')\n",
        "    feature_names.append(feature_name)"
      ],
      "execution_count": 175,
      "outputs": [
        {
          "output_type": "execute_result",
          "data": {
            "text/plain": [
              "'Postcode'"
            ]
          },
          "metadata": {
            "tags": []
          },
          "execution_count": 175
        },
        {
          "output_type": "execute_result",
          "data": {
            "text/plain": [
              "'Borough'"
            ]
          },
          "metadata": {
            "tags": []
          },
          "execution_count": 175
        },
        {
          "output_type": "execute_result",
          "data": {
            "text/plain": [
              "'Neighbourhood'"
            ]
          },
          "metadata": {
            "tags": []
          },
          "execution_count": 175
        }
      ]
    },
    {
      "metadata": {
        "id": "2aeXmnaU1peY",
        "colab_type": "code",
        "colab": {}
      },
      "cell_type": "code",
      "source": [
        "def has_coords(tag):\n",
        "    if tag.has_attr('class'):\n",
        "        if tag['class'][0] == 'latitude' or tag['class'][0] == 'longitude':\n",
        "            return True\n",
        "    return False\n",
        "\n",
        "def get_coords(child):\n",
        "    coords = []\n",
        "    for coord in child.find_all(has_coords):\n",
        "        coords.append(coord.string)\n",
        "    if coords:\n",
        "        if trace:\n",
        "            return 'C = {}'.format(' '.join(coords))\n",
        "        else:\n",
        "            return ' '.join(coords)\n",
        "    else:\n",
        "        return ''\n",
        "\n",
        "samples = []\n",
        "sample_rows = table.find_all('tr')[1:]\n",
        "for sample_row in sample_rows:\n",
        "    features = []\n",
        "    for feature_col in sample_row.find_all('td'):\n",
        "        feature_value = ''\n",
        "        text = feature_col.string\n",
        "        if text:\n",
        "            if trace:\n",
        "                features.append('T = {}'.format(text))\n",
        "            else:\n",
        "                features.append(text)\n",
        "            continue\n",
        "        \n",
        "        for child in feature_col.children:\n",
        "            if child.name == 'span':\n",
        "                if child.has_attr('class'):\n",
        "                    if child['class'] == 'display:none':\n",
        "                        continue\n",
        "                if child.find_all(has_coords):\n",
        "                    feature_value = get_coords(child)\n",
        "                    if feature_value:\n",
        "                        break\n",
        "                    else:\n",
        "                        continue\n",
        "            if child.name == 'sup':\n",
        "                continue\n",
        "            if child.name == 'a':\n",
        "                if child.string[0] == '[':\n",
        "                    continue            \n",
        "            if child.name == 'a':\n",
        "                if trace:\n",
        "                    feature_value = 'A = {}'.format(child.string)\n",
        "                else:\n",
        "                    feature_value = child.string\n",
        "                break\n",
        "            if child.name == 'font':\n",
        "                if trace:\n",
        "                    feature_value = 'F = {}'.format(child.string)\n",
        "                else:\n",
        "                    feature_value = child.string\n",
        "                break\n",
        "            try:\n",
        "                # feature_value = '' for any tags not covered above\n",
        "                content = child.contents\n",
        "            except AttributeError:\n",
        "                # Handle whitespace between child tags, treated as a child string\n",
        "                if child.isspace():\n",
        "                    continue\n",
        "                if trace:\n",
        "                    feature_value = 'E = {}'.format(child)\n",
        "                else:\n",
        "                    feature_value = child\n",
        "                break\n",
        "        features.append(feature_value)\n",
        "    samples.append(dict(zip(feature_names, features)))"
      ],
      "execution_count": 0,
      "outputs": []
    },
    {
      "metadata": {
        "id": "-z842scY1pea",
        "colab_type": "code",
        "colab": {}
      },
      "cell_type": "code",
      "source": [
        "# The first dataframe\n",
        "\n",
        "df = pd.DataFrame(samples).dropna()\n",
        "df = df[df.Borough != \"Not assigned\"]\n",
        "df = df[df.columns[[2, 0, 1]]]\n",
        "df = df.reset_index(drop = True)\n",
        "df.head()"
      ],
      "execution_count": 0,
      "outputs": []
    },
    {
      "metadata": {
        "id": "KisIV8lVHkIo",
        "colab_type": "code",
        "colab": {}
      },
      "cell_type": "code",
      "source": [
        "# Dataframe after replace: Not assigned at Neighbourhood columns by \"Queen's Park\"\n",
        "df.iloc[6, 2]= \"Queen's Park\"\n",
        "df.head(7)\n"
      ],
      "execution_count": 0,
      "outputs": []
    },
    {
      "metadata": {
        "id": "fXLLp_7e2WDJ",
        "colab_type": "code",
        "colab": {}
      },
      "cell_type": "code",
      "source": [
        "# Dataframe after groupby two columns: Borough and Postcode whith commma at Neighbourhood column\n",
        "\n",
        "df = df.groupby ([\"Postcode\", \"Borough\"], as_index = True).agg(','.join)\n",
        "\n",
        "df.head()\n"
      ],
      "execution_count": 0,
      "outputs": []
    },
    {
      "metadata": {
        "id": "m2QyzWXq1pee",
        "colab_type": "text"
      },
      "cell_type": "markdown",
      "source": [
        "# Explore and cluster the neighborhoods in Toronto"
      ]
    },
    {
      "metadata": {
        "id": "sdgpETOLwHXA",
        "colab_type": "code",
        "colab": {}
      },
      "cell_type": "code",
      "source": [
        "# Final Dataframe after: 1. Ignore cells with a borough that is Not assigned; \n",
        "#                        2. Groupby two columns: Borough and Postcode whith commma at Neighbourhood column\n",
        "#                        3. Borough but a Not assigned neighborhood will be the same as the borough\n",
        "\n",
        "\n",
        "df.head(20)"
      ],
      "execution_count": 0,
      "outputs": []
    },
    {
      "metadata": {
        "id": "9W-Ma5Ec1pee",
        "colab_type": "code",
        "colab": {
          "base_uri": "https://localhost:8080/",
          "height": 34
        },
        "outputId": "42b926c2-1776-4133-a7e2-d6e029fa98f5"
      },
      "cell_type": "code",
      "source": [
        "df.shape"
      ],
      "execution_count": 237,
      "outputs": [
        {
          "output_type": "execute_result",
          "data": {
            "text/plain": [
              "(103, 1)"
            ]
          },
          "metadata": {
            "tags": []
          },
          "execution_count": 237
        }
      ]
    }
  ]
}